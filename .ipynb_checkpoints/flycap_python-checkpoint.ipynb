{
 "cells": [
  {
   "cell_type": "code",
   "execution_count": 1,
   "id": "d74cfc97",
   "metadata": {},
   "outputs": [],
   "source": [
    "import cv2\n",
    "import numpy as np\n",
    "from rotpy.system import SpinSystem\n",
    "from rotpy.camera import CameraList"
   ]
  },
  {
   "cell_type": "code",
   "execution_count": 2,
   "id": "35c8ccee",
   "metadata": {},
   "outputs": [],
   "source": [
    "def captureImage():\n",
    "    # take image\n",
    "    camera.begin_acquisition()\n",
    "    image_cam = camera.get_next_image(timeout=5)\n",
    "\n",
    "    # copy image to release from camera buffer\n",
    "    image = image_cam.deep_copy_image(image_cam)\n",
    "    image_data = image_cam.get_image_data() # Returns a bytearray with the data\n",
    "    image_height = image.get_height()\n",
    "    image_width = image.get_width()\n",
    "    \n",
    "    # release\n",
    "    image_cam.release()\n",
    "    camera.end_acquisition()\n",
    "    \n",
    "    # convert to numpy array and reshape (allows cv2 to show image)\n",
    "    numpy_array = np.array(image_data)\n",
    "    reshaped_array = numpy_array.reshape((image_height, image_width))\n",
    "    \n",
    "    # crop if needed\n",
    "    cropped_image = reshaped_array = reshaped_array[0:300, 0:300]\n",
    "    return cropped_image"
   ]
  },
  {
   "cell_type": "code",
   "execution_count": null,
   "id": "f39c9a36",
   "metadata": {},
   "outputs": [],
   "source": [
    "# initialize the CameraList object\n",
    "system = SpinSystem()\n",
    "cameras = CameraList.create_from_system(system, update_cams=True, update_interfaces=True)\n",
    "\n",
    "# get the camera attached from the list\n",
    "camera = cameras.create_camera_by_index(0)\n",
    "\n",
    "# init camera\n",
    "camera.init_cam()\n",
    "\n",
    "while True:\n",
    "    image = captureImage()\n",
    "    # Display the numpy array using cv2\n",
    "    cv2.imshow('Bytearray Image', image)\n",
    "    \n",
    "    \n",
    "    \n",
    "    # Exit if the user presses 'q'\n",
    "    if cv2.waitKey(1) & 0xFF == ord('q'):\n",
    "        break\n",
    "        \n",
    "camera.deinit_cam()\n",
    "camera.release()\n",
    "cv2.destroyAllWindows()"
   ]
  },
  {
   "cell_type": "code",
   "execution_count": null,
   "id": "8d2a32ff",
   "metadata": {},
   "outputs": [],
   "source": []
  },
  {
   "cell_type": "code",
   "execution_count": null,
   "id": "dda39ecd",
   "metadata": {},
   "outputs": [],
   "source": []
  },
  {
   "cell_type": "code",
   "execution_count": null,
   "id": "5e48c233",
   "metadata": {},
   "outputs": [],
   "source": []
  },
  {
   "cell_type": "code",
   "execution_count": null,
   "id": "31672244",
   "metadata": {},
   "outputs": [],
   "source": []
  },
  {
   "cell_type": "code",
   "execution_count": null,
   "id": "a9c35eb0",
   "metadata": {},
   "outputs": [],
   "source": []
  },
  {
   "cell_type": "code",
   "execution_count": null,
   "id": "77a32049",
   "metadata": {},
   "outputs": [],
   "source": []
  },
  {
   "cell_type": "code",
   "execution_count": null,
   "id": "4361bfe2",
   "metadata": {},
   "outputs": [],
   "source": []
  },
  {
   "cell_type": "code",
   "execution_count": null,
   "id": "7deafb02",
   "metadata": {},
   "outputs": [],
   "source": []
  }
 ],
 "metadata": {
  "kernelspec": {
   "display_name": "Python 3 (ipykernel)",
   "language": "python",
   "name": "python3"
  },
  "language_info": {
   "codemirror_mode": {
    "name": "ipython",
    "version": 3
   },
   "file_extension": ".py",
   "mimetype": "text/x-python",
   "name": "python",
   "nbconvert_exporter": "python",
   "pygments_lexer": "ipython3",
   "version": "3.9.13"
  }
 },
 "nbformat": 4,
 "nbformat_minor": 5
}

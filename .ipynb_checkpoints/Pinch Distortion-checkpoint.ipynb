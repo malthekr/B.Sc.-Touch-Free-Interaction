{
 "cells": [
  {
   "cell_type": "code",
   "execution_count": 4,
   "id": "ca92b92a",
   "metadata": {},
   "outputs": [],
   "source": [
    "import cv2\n",
    "import numpy as np\n",
    "\n",
    "# Load the image\n",
    "img = cv2.imread('Website/Pictures/chess.jpg')\n",
    "\n",
    "# Define the camera matrix\n",
    "focal_length = 500\n",
    "center_x = img.shape[1] / 2\n",
    "center_y = img.shape[0] / 2\n",
    "camera_matrix = np.array([[focal_length, 0, center_x],\n",
    "                          [0, focal_length, center_y],\n",
    "                          [0, 0, 1]], dtype=np.float32)\n",
    "\n",
    "# Define the distortion coefficients\n",
    "k1 = -0.5  # pincushion distortion\n",
    "k2 = 0.0\n",
    "k3 = 0.0\n",
    "p1 = 0.0\n",
    "p2 = 0.0\n",
    "dist_coeffs = np.array([k1, k2, k3, p1, p2], dtype=np.float32)\n",
    "\n",
    "# Apply pincushion distortion to the image\n",
    "img_distorted = cv2.undistort(img, camera_matrix, dist_coeffs)\n",
    "\n",
    "# Display the original and distorted images\n",
    "cv2.imshow('Original', img)\n",
    "cv2.imshow('Distorted', img_distorted)\n",
    "cv2.waitKey(0)\n",
    "cv2.destroyAllWindows()\n"
   ]
  },
  {
   "cell_type": "code",
   "execution_count": null,
   "id": "c7b8ac67",
   "metadata": {},
   "outputs": [],
   "source": []
  }
 ],
 "metadata": {
  "kernelspec": {
   "display_name": "Python 3 (ipykernel)",
   "language": "python",
   "name": "python3"
  },
  "language_info": {
   "codemirror_mode": {
    "name": "ipython",
    "version": 3
   },
   "file_extension": ".py",
   "mimetype": "text/x-python",
   "name": "python",
   "nbconvert_exporter": "python",
   "pygments_lexer": "ipython3",
   "version": "3.11.2"
  }
 },
 "nbformat": 4,
 "nbformat_minor": 5
}
